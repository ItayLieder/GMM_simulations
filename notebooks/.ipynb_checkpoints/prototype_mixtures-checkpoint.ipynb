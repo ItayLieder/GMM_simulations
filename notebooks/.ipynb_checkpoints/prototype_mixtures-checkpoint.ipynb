{
 "cells": [
  {
   "cell_type": "code",
   "execution_count": null,
   "metadata": {
    "collapsed": false
   },
   "outputs": [],
   "source": [
    "import numpy as np\n",
    "from matplotlib import pyplot as plt\n",
    "%matplotlib inline\n",
    "from IPython.display import Audio, display, clear_output\n",
    "from IPython.html import widgets\n",
    "from IPython.html.widgets import interactive"
   ]
  },
  {
   "cell_type": "code",
   "execution_count": null,
   "metadata": {
    "collapsed": false
   },
   "outputs": [],
   "source": [
    "mu_p1 = -5.\n",
    "mu_p2 = 5.\n",
    "s_p1 = 2.\n",
    "s_p2 = 2.\n",
    "alpha = 0.5\n",
    "s_n = 1.\n",
    "f = 4\n",
    "x = np.linspace(-10.,10,100)\n",
    "\n",
    "def gauss(x,mu,s):\n",
    "    return 1./np.sqrt(2*np.pi)/s*np.exp(-0.5*(x-mu)**2/s**2)\n",
    "\n",
    "def posterior_GG_G(f,mu_p1,s_p1,mu_p2,s_p2, alpha, s_n):\n",
    "    s_po1 = (1./s_p1**2+ 1./s_n**2)**(-0.5)\n",
    "    mu_po1 = s_po1**2*(mu_p1/s_p1**2 + f/s_n**2)\n",
    "    s_po2 = (1./s_p2**2+ 1./s_n**2)**(-0.5)\n",
    "    mu_po2 = s_po2**2*(mu_p2/s_p2**2 + f/s_n**2)\n",
    "\n",
    "    lk1 = np.log(alpha) -0.5*np.log(2.*np.pi*s_p1*s_n/s_po1)\\\n",
    "          -0.5*(mu_p1**2/s_p1**2 + f**2/s_n**2 - mu_po1**2/s_po1**2 )\n",
    "    lk2 = np.log(1.-alpha) -0.5*np.log(2.*np.pi*s_p2*s_n/s_po2)\\\n",
    "          -0.5*(mu_p2**2/s_p2**2 + f**2/s_n**2 - mu_po2**2/s_po2**2 )\n",
    "\n",
    "    pi = np.exp( -np.log( 1.+np.exp( lk2-lk1)) )    \n",
    "    return mu_po1,s_po1,mu_po2,s_po2,pi\n",
    "\n",
    "def posterior(f,mu_p1 = -5.,mu_p2 = 5.,s_p1 = 2.,s_p2 = 2.,alpha=0.5,s_n=1.):\n",
    "\n",
    "    mu_po1,s_po1,mu_po2,s_po2,pi = posterior_GG_G(f,mu_p1,s_p1,mu_p2,s_p2, alpha, s_n)\n",
    "    #print 'post1:',s_po1,mu_po1\n",
    "    #print 'post2:',s_po2,mu_po2\n",
    "\n",
    "    \n",
    "    fig,axarr=plt.subplots(1,2,figsize=(10,3))\n",
    "\n",
    "    axarr[0].plot(x,alpha*gauss(x,mu_p1,s_p1),'r')\n",
    "    axarr[0].plot(x,(1-alpha)*gauss(x,mu_p2,s_p2),'r')\n",
    "    axarr[0].plot(x,alpha*gauss(x,mu_p1,s_p1) + (1-alpha)*gauss(x,mu_p2,s_p2),'--r')\n",
    "\n",
    "    axarr[0].plot(f,0,'ok')\n",
    "    axarr[0].plot(x,gauss(x,f,s_n),'k')\n",
    "\n",
    "    axarr[0].plot(x,pi*gauss(x,mu_po1,s_po1),'b')\n",
    "    axarr[0].plot(x,(1-pi)*gauss(x,mu_po2,s_po2),'b')\n",
    "    axarr[0].plot(x,pi*gauss(x,mu_po1,s_po1) + (1-pi)*gauss(x,mu_po2,s_po2),'--b')\n",
    "\n",
    "    axarr[1].bar([0,1],[pi,1.-pi],width=1)\n",
    "    axarr[1].set_ylim([0,1.])\n",
    "    axarr[1].set_xticks([0.5,1.5])\n",
    "    axarr[1].set_xticklabels(['1','2'])\n",
    "    \n",
    "    \n",
    "w = interactive(posterior, f=(-10.,10.),\\\n",
    "                mu_p1=(-10.,10.),s_p1=(1.,5.),\\\n",
    "                mu_p2=(-10.,10.),s_p2=(1.,5.),\\\n",
    "                alpha=(0.,1.),\\\n",
    "                s_n=(0.5,5.))\n",
    "display(w)"
   ]
  },
  {
   "cell_type": "code",
   "execution_count": null,
   "metadata": {
    "collapsed": false
   },
   "outputs": [],
   "source": [
    "s_p = 1.\n",
    "mu_p = 0.\n",
    "a = -10\n",
    "b = 10.\n",
    "alpha = 1.\n",
    "s_n = 2.\n",
    "\n",
    "f =4\n",
    "\n",
    "\n",
    "def posterior_UG_G(f,mu_p,s_p,a,b,alpha):\n",
    "\n",
    "    s_po = (1./s_p**2+ 1./s_n**2)**(-0.5)\n",
    "    mu_po = s_po**2*(mu_p/s_p**2 + f/s_n**2)\n",
    "    kappa = 1/np.sqrt(2.*np.pi*s_p*s_n/s_po)\\\n",
    "            *np.exp(-0.5*(mu_p**2/s_p**2 + f**2/s_n**2 - mu_po**2/s_po**2 ))\n",
    "    pi = (alpha/(b-a))/( (alpha/(b-a)) + (1-alpha)*kappa )\n",
    "    return mu_po,s_po,pi\n",
    "\n",
    "def uniform(a,b,x):\n",
    "    return 1./(b-a)*((x>a) & (x<b))\n",
    "\n",
    "\n",
    "def posterior(f,mu_p=0.,s_p=3.,a=-10.,b=10.,alpha=0.5,s_n=1.):\n",
    "\n",
    "    mu_po,s_po,pi = posterior_UG_G(f,mu_p,s_p,a,b,alpha)\n",
    "    \n",
    "    fig,axarr=plt.subplots(1,2,figsize=(10,3))\n",
    "    axarr[0].plot(x,alpha*uniform(a,b,x),'r')\n",
    "    axarr[0].plot(x,(1-alpha)*gauss(x,mu_p,s_p),'r')\n",
    "    axarr[0].plot(x,alpha*uniform(a,b,x) + (1-alpha)*gauss(x,mu_p,s_p),'--r')\n",
    "\n",
    "    axarr[0].plot(f,0,'ok')\n",
    "    axarr[0].plot(x,gauss(x,f,s_n),'k')\n",
    "    axarr[0].plot(x,pi*gauss(x,f,s_n) + (1-pi)*gauss(x,mu_po,s_po),'--b')\n",
    "\n",
    "    axarr[1].bar([0,1],[pi,1.-pi],width=1)\n",
    "    axarr[1].set_ylim([0,1.])\n",
    "    axarr[1].set_xticks([0.5,1.5])\n",
    "    axarr[1].set_xticklabels(['back','prior'])\n",
    "    \n",
    "\n",
    "w = interactive(posterior, f=(-10.,10.),\\\n",
    "                mu_p=(-10.,10.),s_p=(1.,5.),\\\n",
    "                alpha=(0.,1.),\\\n",
    "                a=(-10.,10),b=(-10,10),\\\n",
    "                s_n=(0.5,5.))\n",
    "display(w)"
   ]
  },
  {
   "cell_type": "code",
   "execution_count": null,
   "metadata": {
    "collapsed": true
   },
   "outputs": [],
   "source": []
  }
 ],
 "metadata": {
  "kernelspec": {
   "display_name": "Python 2",
   "language": "python",
   "name": "python2"
  },
  "language_info": {
   "codemirror_mode": {
    "name": "ipython",
    "version": 2
   },
   "file_extension": ".py",
   "mimetype": "text/x-python",
   "name": "python",
   "nbconvert_exporter": "python",
   "pygments_lexer": "ipython2",
   "version": "2.7.9"
  }
 },
 "nbformat": 4,
 "nbformat_minor": 0
}
