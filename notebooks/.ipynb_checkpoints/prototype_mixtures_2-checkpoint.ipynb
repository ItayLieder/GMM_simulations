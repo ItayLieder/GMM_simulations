{
 "cells": [
  {
   "cell_type": "code",
   "execution_count": null,
   "metadata": {
    "collapsed": false
   },
   "outputs": [],
   "source": [
    "import numpy as np\n",
    "from matplotlib import pyplot as plt\n",
    "%matplotlib inline\n",
    "from IPython.display import Audio, display, clear_output\n",
    "from IPython.html import widgets\n",
    "from IPython.html.widgets import interactive\n",
    "\n",
    "from distributions import *\n"
   ]
  },
  {
   "cell_type": "code",
   "execution_count": null,
   "metadata": {
    "collapsed": false
   },
   "outputs": [],
   "source": [
    "\n",
    "x = np.linspace(-10.,10,500)\n",
    "\n",
    "def gauss(x,mu,s):\n",
    "    return 1./np.sqrt(2*np.pi)/s*np.exp(-0.5*(x-mu)**2/s**2)\n",
    "\n",
    "\n",
    "def posterior(f,mu_p1 = -5.,mu_p2 = 5.,s_p1 = 2.,s_p2 = 2.,alpha=0.5,s_n=1.):\n",
    "\n",
    "    g1 = Gaussian(mu_p1,s_p1)\n",
    "    g2 = Gaussian(mu_p2,s_p2)\n",
    "    prior = Mixture([g1,g2],[alpha,1.-alpha])\n",
    "    lh = Gaussian(f,s_n)\n",
    "    post = prior.posterior(lh)\n",
    "    pi = post.w\n",
    "    \n",
    "    fig,axarr=plt.subplots(1,2,figsize=(10,3))\n",
    "    axarr[0].plot(x,prior.pdf(x),'r')\n",
    "    axarr[0].plot(f,0,'ok')\n",
    "    axarr[0].plot(x,lh.pdf(x),'k')\n",
    "    axarr[0].plot(x,post.pdf(x),'b')\n",
    "\n",
    "    axarr[1].bar([0,1],pi,width=1)\n",
    "    axarr[1].set_ylim([0,1.])\n",
    "    axarr[1].set_xticks([0.5,1.5])\n",
    "    axarr[1].set_xticklabels(['1','2'])\n",
    "    \n",
    "    \n",
    "w = interactive(posterior, f=(-10.,10.),\\\n",
    "                mu_p1=(-10.,10.),s_p1=(1.,5.),\\\n",
    "                mu_p2=(-10.,10.),s_p2=(1.,5.),\\\n",
    "                alpha=(0.,1.),\\\n",
    "                s_n=(0.5,5.))\n",
    "display(w)"
   ]
  },
  {
   "cell_type": "code",
   "execution_count": null,
   "metadata": {
    "collapsed": false
   },
   "outputs": [],
   "source": [
    "\n",
    "def posterior(f,mu_p=0.,s_p=3.,a=-10.,b=10.,alpha=0.5,s_n=1.):\n",
    "\n",
    "    u = Uniform(a,b)\n",
    "    g2 = Gaussian(mu_p,s_p)\n",
    "    prior = Mixture([u,g2],[alpha,1.-alpha])\n",
    "    lh = Gaussian(f,s_n)\n",
    "    post = prior.posterior(lh)\n",
    "    pi = post.w\n",
    "    \n",
    "    fig,axarr=plt.subplots(1,2,figsize=(10,3))\n",
    "\n",
    "    axarr[0].plot(x,prior.pdf(x),'r')\n",
    "    axarr[0].plot(f,0,'ok')\n",
    "    axarr[0].plot(x,lh.pdf(x),'k')\n",
    "    axarr[0].plot(x,post.pdf(x),'b')\n",
    "\n",
    "    axarr[1].bar([0,1],pi,width=1)\n",
    "    axarr[1].set_ylim([0,1.])\n",
    "    axarr[1].set_xticks([0.5,1.5])\n",
    "    axarr[1].set_xticklabels(['back','prior'])\n",
    "    \n",
    "\n",
    "w = interactive(posterior, f=(-10.,10.),\\\n",
    "                mu_p=(-10.,10.),s_p=(1.,5.),\\\n",
    "                alpha=(0.,1.),\\\n",
    "                a=(-10.,10),b=(-10,10),\\\n",
    "                s_n=(0.5,5.))\n",
    "display(w)"
   ]
  },
  {
   "cell_type": "code",
   "execution_count": null,
   "metadata": {
    "collapsed": true
   },
   "outputs": [],
   "source": []
  },
  {
   "cell_type": "code",
   "execution_count": null,
   "metadata": {
    "collapsed": true
   },
   "outputs": [],
   "source": []
  }
 ],
 "metadata": {
  "kernelspec": {
   "display_name": "Python 2",
   "language": "python",
   "name": "python2"
  },
  "language_info": {
   "codemirror_mode": {
    "name": "ipython",
    "version": 2
   },
   "file_extension": ".py",
   "mimetype": "text/x-python",
   "name": "python",
   "nbconvert_exporter": "python",
   "pygments_lexer": "ipython2",
   "version": "2.7.9"
  }
 },
 "nbformat": 4,
 "nbformat_minor": 0
}
