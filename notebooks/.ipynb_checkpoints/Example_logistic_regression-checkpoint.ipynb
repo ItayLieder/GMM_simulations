{
 "cells": [
  {
   "cell_type": "code",
   "execution_count": null,
   "metadata": {
    "collapsed": true
   },
   "outputs": [],
   "source": [
    "import numpy as np\n",
    "import pystan\n",
    "from matplotlib import pyplot as plt\n",
    "%matplotlib inline"
   ]
  },
  {
   "cell_type": "markdown",
   "metadata": {},
   "source": [
    "Model\n",
    "* $\\mu \\sim \\cal{N}(0,3)$\n",
    "* $\\eta_i = \\frac{x_i-\\mu}{\\sigma}$\n",
    "* $y_i \\sim Bern\\left((1-\\lambda)*\\Phi(\\eta_i) + \\frac{\\lambda}{2}\\right)$"
   ]
  },
  {
   "cell_type": "code",
   "execution_count": null,
   "metadata": {
    "collapsed": false
   },
   "outputs": [],
   "source": [
    "from pystan import StanModel\n",
    "\n",
    "logreg_code = \"\"\"\n",
    "data {\n",
    "    int<lower=1> N;\n",
    "    vector[N] x;\n",
    "    int<lower=0,upper=1> y[N];\n",
    "}\n",
    "parameters {\n",
    "    real<lower=0> sigma;\n",
    "    real mu;\n",
    "    real<lower=0,upper=0.05> lambda;\n",
    "}\n",
    "model {\n",
    "    vector[N] eta;\n",
    "    mu ~ normal(0,3);\n",
    "    eta <- (x-mu)/sigma;\n",
    "    for (i in 1:N)\n",
    "        {\n",
    "            y[i] ~ bernoulli((1-lambda)*Phi(eta[i])+lambda/2);\n",
    "        }\n",
    "}\n",
    "\"\"\"\n",
    "\n",
    "\n",
    "\n",
    "# using the same model as before\n",
    "sm = StanModel(model_code=logreg_code)\n"
   ]
  },
  {
   "cell_type": "code",
   "execution_count": null,
   "metadata": {
    "collapsed": false
   },
   "outputs": [],
   "source": [
    "# Sample subject data\n",
    "\n",
    "\n",
    "n =200\n",
    "x = -3.+6.*np.random.rand(n)\n",
    "noise = np.random.randn(n)\n",
    "th = 2.\n",
    "y = (x+noise > th)*1\n",
    "    \n",
    "_, bins,_ = plt.hist(x)\n",
    "yb =[y[(x>=bl)&(x<=br)] for bl,br in zip(bins[:-1],bins[1:])]\n",
    "cf = [0.5*(bl+br) for bl,br in zip(bins[:-1],bins[1:])]\n",
    "\n",
    "m = [np.mean(y_) for y_ in yb]\n",
    "sem = [np.std(y_)/np.sqrt(len(y_)) for y_ in yb]\n",
    "plt.close()\n",
    "plt.errorbar(cf,m,yerr=sem)\n",
    "\n",
    "plt.show()\n",
    "plt.plot(x,y,'x')"
   ]
  },
  {
   "cell_type": "code",
   "execution_count": null,
   "metadata": {
    "collapsed": false
   },
   "outputs": [],
   "source": [
    "logreg_dat = {'N': n,\n",
    "               'y': y,\n",
    "               'x': x}\n",
    "\n",
    "fit = sm.sampling(data=logreg_dat)\n"
   ]
  },
  {
   "cell_type": "code",
   "execution_count": null,
   "metadata": {
    "collapsed": false
   },
   "outputs": [],
   "source": [
    "%pylab inline\n",
    "from scipy.stats import norm\n",
    "#f = fit.traceplot()\n",
    "#plt.tight_layout()\n",
    "\n",
    "ext = fit.extract()\n",
    "k=100\n",
    "sigma_s = ext['sigma']\n",
    "lambda_s = ext['lambda']\n",
    "mu_s = ext['mu']\n",
    " \n",
    "print np.mean(sigma_s)\n",
    "print np.mean(lambda_s)\n",
    "print np.mean(mu_s)\n",
    "\n",
    "x = np.linspace(-3,3,100)\n",
    "for s,l,m in zip(sigma_s[0:k],lambda_s[0:k],mu_s[0:k]):\n",
    "    plt.plot(x,norm.cdf((x-m)/s),c='b', alpha=0.1)"
   ]
  },
  {
   "cell_type": "code",
   "execution_count": null,
   "metadata": {
    "collapsed": false
   },
   "outputs": [],
   "source": [
    "plt.hist(mu_s,bins=100);"
   ]
  },
  {
   "cell_type": "code",
   "execution_count": null,
   "metadata": {
    "collapsed": true
   },
   "outputs": [],
   "source": []
  }
 ],
 "metadata": {
  "kernelspec": {
   "display_name": "Python 2",
   "language": "python",
   "name": "python2"
  },
  "language_info": {
   "codemirror_mode": {
    "name": "ipython",
    "version": 2
   },
   "file_extension": ".py",
   "mimetype": "text/x-python",
   "name": "python",
   "nbconvert_exporter": "python",
   "pygments_lexer": "ipython2",
   "version": "2.7.9"
  }
 },
 "nbformat": 4,
 "nbformat_minor": 0
}
